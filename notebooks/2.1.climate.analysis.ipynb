{
 "cells": [
  {
   "cell_type": "markdown",
   "metadata": {},
   "source": [
    "## Import dependencies"
   ]
  },
  {
   "cell_type": "code",
   "execution_count": 1,
   "metadata": {},
   "outputs": [],
   "source": [
    "import os, inspect, sys\n",
    "import numpy as np\n",
    "import pandas as pd\n",
    "from dateutil.relativedelta import relativedelta\n",
    "from datetime import datetime\n",
    "import matplotlib.pyplot as plt\n",
    "# sqlalchemy dependencies\n",
    "from sqlalchemy import create_engine\n",
    "from sqlalchemy.ext.automap import automap_base\n",
    "from sqlalchemy.orm import Session\n",
    "from sqlalchemy import desc\n",
    "from sqlalchemy import func\n",
    "from sqlalchemy.sql import label"
   ]
  },
  {
   "cell_type": "markdown",
   "metadata": {},
   "source": [
    "## Get project root directory"
   ]
  },
  {
   "cell_type": "code",
   "execution_count": 2,
   "metadata": {},
   "outputs": [],
   "source": [
    "CURR_FILE = inspect.getabsfile(inspect.currentframe())\n",
    "CURR_DIR = os.path.dirname(CURR_FILE)\n",
    "ROOT_DIR = os.path.dirname(CURR_DIR)\n",
    "sys.path.insert(0, ROOT_DIR)"
   ]
  },
  {
   "cell_type": "markdown",
   "metadata": {},
   "source": [
    "## Set parameters"
   ]
  },
  {
   "cell_type": "code",
   "execution_count": 3,
   "metadata": {},
   "outputs": [],
   "source": [
    "echo = False\n",
    "plt.style.use('seaborn')\n",
    "figsize = (13, 8)\n",
    "label_fontsize = 17\n",
    "title_fontsize = 20"
   ]
  },
  {
   "cell_type": "markdown",
   "metadata": {},
   "source": [
    "## Create sqlite engine\n",
    "Define database tools to connect, i.e. db API."
   ]
  },
  {
   "cell_type": "code",
   "execution_count": 4,
   "metadata": {},
   "outputs": [],
   "source": [
    "filename = os.path.join(ROOT_DIR, \"surfpy\", \"data\", \"int\", \"hawaii.sqlite\")\n",
    "# filename = \":memory:\"\n",
    "engine = create_engine(f\"sqlite:///{filename}\", echo=echo)"
   ]
  },
  {
   "cell_type": "markdown",
   "metadata": {},
   "source": [
    "## Reflect an existing database into a new model\n",
    "Reflect an existing database into a new model"
   ]
  },
  {
   "cell_type": "code",
   "execution_count": 5,
   "metadata": {},
   "outputs": [
    {
     "data": {
      "text/plain": [
       "['measurements', 'stations']"
      ]
     },
     "execution_count": 5,
     "metadata": {},
     "output_type": "execute_result"
    }
   ],
   "source": [
    "Base = automap_base()\n",
    "Base.prepare(engine=engine, reflect=True)\n",
    "# reflect the tables\n",
    "Base.classes.keys()"
   ]
  },
  {
   "cell_type": "markdown",
   "metadata": {},
   "source": [
    "## Store tables\n",
    "Save references to each table"
   ]
  },
  {
   "cell_type": "code",
   "execution_count": 6,
   "metadata": {},
   "outputs": [],
   "source": [
    "Measurements = Base.classes.measurements\n",
    "Stations = Base.classes.stations"
   ]
  },
  {
   "cell_type": "markdown",
   "metadata": {},
   "source": [
    "## Create session\n",
    "Wrap the database connectoin and transactions for the created engine. (gateway to our data)"
   ]
  },
  {
   "cell_type": "code",
   "execution_count": 7,
   "metadata": {},
   "outputs": [],
   "source": [
    "session = Session(bind=engine)"
   ]
  },
  {
   "cell_type": "markdown",
   "metadata": {},
   "source": [
    "## Precipitation Analysis"
   ]
  },
  {
   "cell_type": "markdown",
   "metadata": {},
   "source": [
    "### Query to retrieve the last 12 months of precipitation data"
   ]
  },
  {
   "cell_type": "code",
   "execution_count": 8,
   "metadata": {},
   "outputs": [],
   "source": [
    "years_before = 1\n",
    "months_before = 0\n",
    "days_before = 0\n",
    "# get the most recent measurment acquired\n",
    "recent_measurement = session.query(Measurements).order_by(desc(Measurements.date)).first()\n",
    "measurement_end_date = recent_measurement.date\n",
    "measurement_start_date = measurement_end_date - \\\n",
    "    relativedelta(years=years_before, months=months_before, days=days_before)"
   ]
  },
  {
   "cell_type": "code",
   "execution_count": 9,
   "metadata": {},
   "outputs": [],
   "source": [
    "# query between start and end dates\n",
    "query = (session.query(Measurements).filter(\n",
    "    Measurements.date.between(measurement_start_date, measurement_end_date)))"
   ]
  },
  {
   "cell_type": "code",
   "execution_count": 10,
   "metadata": {},
   "outputs": [
    {
     "data": {
      "text/html": [
       "<div>\n",
       "<style scoped>\n",
       "    .dataframe tbody tr th:only-of-type {\n",
       "        vertical-align: middle;\n",
       "    }\n",
       "\n",
       "    .dataframe tbody tr th {\n",
       "        vertical-align: top;\n",
       "    }\n",
       "\n",
       "    .dataframe thead th {\n",
       "        text-align: right;\n",
       "    }\n",
       "</style>\n",
       "<table border=\"1\" class=\"dataframe\">\n",
       "  <thead>\n",
       "    <tr style=\"text-align: right;\">\n",
       "      <th></th>\n",
       "      <th>measurement_id</th>\n",
       "      <th>station</th>\n",
       "      <th>prcp</th>\n",
       "      <th>tobs</th>\n",
       "    </tr>\n",
       "    <tr>\n",
       "      <th>date</th>\n",
       "      <th></th>\n",
       "      <th></th>\n",
       "      <th></th>\n",
       "      <th></th>\n",
       "    </tr>\n",
       "  </thead>\n",
       "  <tbody>\n",
       "    <tr>\n",
       "      <th>2016-08-23</th>\n",
       "      <td>2327</td>\n",
       "      <td>USC00519397</td>\n",
       "      <td>0.00</td>\n",
       "      <td>81.0</td>\n",
       "    </tr>\n",
       "    <tr>\n",
       "      <th>2016-08-24</th>\n",
       "      <td>2328</td>\n",
       "      <td>USC00519397</td>\n",
       "      <td>0.08</td>\n",
       "      <td>79.0</td>\n",
       "    </tr>\n",
       "    <tr>\n",
       "      <th>2016-08-25</th>\n",
       "      <td>2329</td>\n",
       "      <td>USC00519397</td>\n",
       "      <td>0.08</td>\n",
       "      <td>80.0</td>\n",
       "    </tr>\n",
       "    <tr>\n",
       "      <th>2016-08-26</th>\n",
       "      <td>2330</td>\n",
       "      <td>USC00519397</td>\n",
       "      <td>0.00</td>\n",
       "      <td>79.0</td>\n",
       "    </tr>\n",
       "    <tr>\n",
       "      <th>2016-08-27</th>\n",
       "      <td>2331</td>\n",
       "      <td>USC00519397</td>\n",
       "      <td>0.00</td>\n",
       "      <td>77.0</td>\n",
       "    </tr>\n",
       "  </tbody>\n",
       "</table>\n",
       "</div>"
      ],
      "text/plain": [
       "            measurement_id      station  prcp  tobs\n",
       "date                                               \n",
       "2016-08-23            2327  USC00519397  0.00  81.0\n",
       "2016-08-24            2328  USC00519397  0.08  79.0\n",
       "2016-08-25            2329  USC00519397  0.08  80.0\n",
       "2016-08-26            2330  USC00519397  0.00  79.0\n",
       "2016-08-27            2331  USC00519397  0.00  77.0"
      ]
     },
     "execution_count": 10,
     "metadata": {},
     "output_type": "execute_result"
    }
   ],
   "source": [
    "# Save the query results as a Pandas DataFrame and set the index to the date column\n",
    "query_df = pd.read_sql_query(query.statement, engine, index_col=\"date\")\n",
    "query_df.head()"
   ]
  },
  {
   "cell_type": "code",
   "execution_count": 11,
   "metadata": {},
   "outputs": [
    {
     "data": {
      "image/png": "[encoded data removed]",
      "text/plain": [
       "<Figure size 936x576 with 1 Axes>"
      ]
     },
     "metadata": {},
     "output_type": "display_data"
    }
   ],
   "source": [
    "# Use Pandas Plotting with Matplotlib to plot the data\n",
    "# Rotate the xticks for the dates\n",
    "ax = query_df.plot(y=\"prcp\",figsize = figsize, rot = 45, use_index = True, legend=False)\n",
    "ax.set_ylabel('Precipation', fontsize=label_fontsize)\n",
    "ax.set_xlabel('Date', fontsize=label_fontsize)\n",
    "plt.title(\"Precipition in Hawaii from %s to %s\" % (query_df.index.min(), query_df.index.max()),\n",
    "         fontsize=title_fontsize)\n",
    "plt.show()"
   ]
  },
  {
   "cell_type": "markdown",
   "metadata": {},
   "source": [
    "### Percipitation summary statistics"
   ]
  },
  {
   "cell_type": "code",
   "execution_count": 12,
   "metadata": {},
   "outputs": [
    {
     "data": {
      "text/html": [
       "<div>\n",
       "<style scoped>\n",
       "    .dataframe tbody tr th:only-of-type {\n",
       "        vertical-align: middle;\n",
       "    }\n",
       "\n",
       "    .dataframe tbody tr th {\n",
       "        vertical-align: top;\n",
       "    }\n",
       "\n",
       "    .dataframe thead th {\n",
       "        text-align: right;\n",
       "    }\n",
       "</style>\n",
       "<table border=\"1\" class=\"dataframe\">\n",
       "  <thead>\n",
       "    <tr style=\"text-align: right;\">\n",
       "      <th></th>\n",
       "      <th>prcp</th>\n",
       "    </tr>\n",
       "  </thead>\n",
       "  <tbody>\n",
       "    <tr>\n",
       "      <th>count</th>\n",
       "      <td>2021.000000</td>\n",
       "    </tr>\n",
       "    <tr>\n",
       "      <th>mean</th>\n",
       "      <td>0.177279</td>\n",
       "    </tr>\n",
       "    <tr>\n",
       "      <th>std</th>\n",
       "      <td>0.461190</td>\n",
       "    </tr>\n",
       "    <tr>\n",
       "      <th>min</th>\n",
       "      <td>0.000000</td>\n",
       "    </tr>\n",
       "    <tr>\n",
       "      <th>25%</th>\n",
       "      <td>0.000000</td>\n",
       "    </tr>\n",
       "    <tr>\n",
       "      <th>50%</th>\n",
       "      <td>0.020000</td>\n",
       "    </tr>\n",
       "    <tr>\n",
       "      <th>75%</th>\n",
       "      <td>0.130000</td>\n",
       "    </tr>\n",
       "    <tr>\n",
       "      <th>max</th>\n",
       "      <td>6.700000</td>\n",
       "    </tr>\n",
       "  </tbody>\n",
       "</table>\n",
       "</div>"
      ],
      "text/plain": [
       "              prcp\n",
       "count  2021.000000\n",
       "mean      0.177279\n",
       "std       0.461190\n",
       "min       0.000000\n",
       "25%       0.000000\n",
       "50%       0.020000\n",
       "75%       0.130000\n",
       "max       6.700000"
      ]
     },
     "execution_count": 12,
     "metadata": {},
     "output_type": "execute_result"
    }
   ],
   "source": [
    "# Use Pandas to calcualte the summary statistics for the precipitation data\n",
    "query_df[[\"prcp\"]].describe()"
   ]
  },
  {
   "cell_type": "markdown",
   "metadata": {},
   "source": [
    "## Station Analysis"
   ]
  },
  {
   "cell_type": "markdown",
   "metadata": {},
   "source": [
    "### Number of sations"
   ]
  },
  {
   "cell_type": "code",
   "execution_count": 13,
   "metadata": {},
   "outputs": [
    {
     "name": "stdout",
     "output_type": "stream",
     "text": [
      "Number of available stations: 9\n"
     ]
    }
   ],
   "source": [
    "# How many stations are available in this dataset?\n",
    "n_stations = session.query(Stations).group_by(Stations.station).count()\n",
    "print(f\"Number of available stations: {n_stations}\")"
   ]
  },
  {
   "cell_type": "markdown",
   "metadata": {},
   "source": [
    "### Station activities"
   ]
  },
  {
   "cell_type": "code",
   "execution_count": 14,
   "metadata": {},
   "outputs": [],
   "source": [
    "# What are the most active stations?\n",
    "# List the stations and the counts in descending order.\n",
    "query = session.query(\n",
    "    Measurements.station, label(\"activity\", func.count(Measurements.station))).filter(\n",
    "        Stations.station == Measurements.station)\n",
    "query = query.group_by(Measurements.station)\n",
    "query = query.order_by(desc(\"activity\"))\n"
   ]
  },
  {
   "cell_type": "code",
   "execution_count": 15,
   "metadata": {},
   "outputs": [
    {
     "data": {
      "text/plain": [
       "[('USC00519281', 2772),\n",
       " ('USC00513117', 2696),\n",
       " ('USC00519397', 2685),\n",
       " ('USC00519523', 2572),\n",
       " ('USC00516128', 2484),\n",
       " ('USC00514830', 1937),\n",
       " ('USC00511918', 1932),\n",
       " ('USC00517948', 683),\n",
       " ('USC00518838', 342)]"
      ]
     },
     "execution_count": 15,
     "metadata": {},
     "output_type": "execute_result"
    }
   ],
   "source": [
    "query.all()"
   ]
  },
  {
   "cell_type": "markdown",
   "metadata": {},
   "source": [
    "### Most active station"
   ]
  },
  {
   "cell_type": "code",
   "execution_count": 16,
   "metadata": {},
   "outputs": [],
   "source": [
    "# Using the station id from the previous query, calculate the lowest temperature recorded, \n",
    "# highest temperature recorded, and average temperature most active station?\n",
    "most_active_station = query[0][0]\n",
    "query = session.query(\n",
    "    Measurements.station,\n",
    "    label(\"min_tobs\", func.min(Measurements.tobs)),\n",
    "    label(\"max_tobs\", func.max(Measurements.tobs)),\n",
    "    label(\"avg_tobs\", func.avg(Measurements.tobs))).filter(\n",
    "        most_active_station == Measurements.station)\n"
   ]
  },
  {
   "cell_type": "code",
   "execution_count": 17,
   "metadata": {},
   "outputs": [
    {
     "data": {
      "text/plain": [
       "[('USC00519281', 54.0, 85.0, 71.66378066378067)]"
      ]
     },
     "execution_count": 17,
     "metadata": {},
     "output_type": "execute_result"
    }
   ],
   "source": [
    "query.all()"
   ]
  },
  {
   "cell_type": "markdown",
   "metadata": {},
   "source": [
    "### Last year temperature observation data"
   ]
  },
  {
   "cell_type": "code",
   "execution_count": 18,
   "metadata": {},
   "outputs": [],
   "source": [
    "# Choose the station with the highest number of temperature observations.\n",
    "# Query the last 12 months of temperature observation data for this station\n",
    "query = session.query(\n",
    "    Measurements.tobs).filter(\n",
    "        most_active_station == Measurements.station,\n",
    "        Measurements.date.between(measurement_start_date, measurement_end_date))"
   ]
  },
  {
   "cell_type": "code",
   "execution_count": 19,
   "metadata": {},
   "outputs": [
    {
     "data": {
      "image/png": "[encoded data removed]",
      "text/plain": [
       "<Figure size 936x576 with 1 Axes>"
      ]
     },
     "metadata": {},
     "output_type": "display_data"
    }
   ],
   "source": [
    "# plot the results as a histogram\n",
    "tobs = [elem[0] for elem in query]\n",
    "fig = plt.figure(figsize=figsize)\n",
    "ax = fig.subplots(ncols=1, nrows=1)\n",
    "ax.hist(tobs, bins=12, rwidth=0.9)\n",
    "ax.set_xlabel(\"Temperature (F)\", fontsize=label_fontsize)\n",
    "ax.set_ylabel(\"Frequency\", fontsize=label_fontsize)\n",
    "_ = ax.set_title(f\"Temperature Frequency at {most_active_station} ({measurement_start_date}~{measurement_end_date})\", fontsize=title_fontsize)"
   ]
  },
  {
   "cell_type": "markdown",
   "metadata": {},
   "source": [
    "### Temperature helper function"
   ]
  },
  {
   "cell_type": "code",
   "execution_count": 20,
   "metadata": {},
   "outputs": [
    {
     "name": "stdout",
     "output_type": "stream",
     "text": [
      "(62.0, 69.20930232558139, 74.0)\n"
     ]
    }
   ],
   "source": [
    "# helper function to calculate temperature stats over given range\n",
    "def calc_temps(start_date, end_date):\n",
    "    \"\"\"TMIN, TAVG, and TMAX for a list of dates.\n",
    "    \n",
    "    Args:\n",
    "        start_date (string): A date string in the format %Y-%m-%d\n",
    "        end_date (string): A date string in the format %Y-%m-%d\n",
    "        \n",
    "    Returns:\n",
    "        TMIN, TAVE, and TMAX\n",
    "    \"\"\"\n",
    "    start_date_ = datetime.strptime(start_date, \"%Y-%m-%d\")\n",
    "    end_date_ = datetime.strptime(end_date, \"%Y-%m-%d\")\n",
    "    query = session.query(func.min(Measurements.tobs),\n",
    "                        func.avg(Measurements.tobs),\n",
    "                        func.max(Measurements.tobs)).filter(\n",
    "        Measurements.date >= start_date_, Measurements.date <= end_date_).all()\n",
    "    return query[0]\n",
    "print(calc_temps('2012-02-28', '2012-03-05'))"
   ]
  },
  {
   "cell_type": "code",
   "execution_count": 21,
   "metadata": {},
   "outputs": [],
   "source": [
    "# Use your previous function `calc_temps` to calculate the tmin, tavg, and tmax \n",
    "# for your trip using the previous year's data for those same dates.\n",
    "# calc temperature data\n",
    "trip_start_date = '2017-01-28'\n",
    "trip_end_date = '2017-03-05'\n",
    "tobs_min, tobs_avg, tobs_max = calc_temps(trip_start_date, trip_end_date)"
   ]
  },
  {
   "cell_type": "code",
   "execution_count": 22,
   "metadata": {},
   "outputs": [],
   "source": [
    "# Plot the results from your previous query as a bar chart. \n",
    "# Use \"Trip Avg Temp\" as your Title\n",
    "# Use the average temperature for the y value\n",
    "# Use the peak-to-peak (tmax-tmin) value as the y error bar (yerr)"
   ]
  },
  {
   "cell_type": "code",
   "execution_count": 23,
   "metadata": {},
   "outputs": [
    {
     "data": {
      "image/png": "[encoded data removed]",
      "text/plain": [
       "<Figure size 144x504 with 1 Axes>"
      ]
     },
     "metadata": {},
     "output_type": "display_data"
    }
   ],
   "source": [
    "fig = plt.figure(figsize=(2,7))\n",
    "ax = fig.subplots(ncols=1, nrows=1)\n",
    "ax.bar(x=1, height=tobs_avg, yerr=(tobs_max-tobs_min))\n",
    "ax.set_xticklabels(\"\")\n",
    "ax.set_ylabel(\"Temperature (F)\", fontsize=label_fontsize)\n",
    "_ = ax.set_title(\"Trip Avg Temp\" + os.linesep +f\"({measurement_start_date}~{measurement_end_date})\",\n",
    "                 fontsize=15)"
   ]
  },
  {
   "cell_type": "code",
   "execution_count": 24,
   "metadata": {},
   "outputs": [],
   "source": [
    "# helper function to calculate precipitation over given range\n",
    "def calc_prcp(start_date, end_date):\n",
    "    \"\"\"STATION_ID, STATION_NAME, LATITUDE, LONGITUDE, PRECIPITATION for a list of dates.\n",
    "    \n",
    "    Args:\n",
    "        start_date (string): A date string in the format %Y-%m-%d\n",
    "        end_date (string): A date string in the format %Y-%m-%d\n",
    "        \n",
    "    Returns:\n",
    "        [(STATION_ID, STATION_NAME, LATITUDE, LONGITUDE, PRECIPITATION),\n",
    "         ....,\n",
    "        ]\n",
    "    \"\"\"\n",
    "    start_date_ = datetime.strptime(start_date, \"%Y-%m-%d\")\n",
    "    end_date_ = datetime.strptime(end_date, \"%Y-%m-%d\")\n",
    "    query = session.query(\n",
    "        Measurements.station,\n",
    "        Stations.name,\n",
    "        Stations.latitude,\n",
    "        Stations.longitude,\n",
    "        Stations.elevation,\n",
    "        label(\"sumprcp\", func.sum(Measurements.prcp))).filter(\n",
    "            Measurements.date >= start_date_, Measurements.date <= end_date_).filter(\n",
    "                Measurements.station == Stations.station)\n",
    "    query = query.group_by(Measurements.station)\n",
    "    query = query.order_by(desc(\"sumprcp\"))\n",
    "    return query.all()"
   ]
  },
  {
   "cell_type": "code",
   "execution_count": 25,
   "metadata": {},
   "outputs": [
    {
     "name": "stdout",
     "output_type": "stream",
     "text": [
      "[('USC00519523', 'WAIMANALO EXPERIMENTAL FARM, HI US', 21.33556, -157.71139, 19.5, 0.6), ('USC00516128', 'MANOA LYON ARBO 785.2, HI US', 21.3331, -157.8025, 152.4, 0.47), ('USC00519281', 'WAIHEE 837.5, HI US', 21.45167, -157.84888999999995, 32.9, 0.06999999999999999), ('USC00514830', 'KUALOA RANCH HEADQUARTERS 886.9, HI US', 21.5213, -157.8374, 7.0, 0.01), ('USC00513117', 'KANEOHE 838.1, HI US', 21.4234, -157.8015, 14.6, 0.0), ('USC00519397', 'WAIKIKI 717.2, HI US', 21.2716, -157.8168, 3.0, 0.0)]\n"
     ]
    }
   ],
   "source": [
    "trip_start_date = '2017-01-01'\n",
    "trip_end_date = '2017-01-05'\n",
    "print(calc_prcp(trip_start_date, trip_end_date))"
   ]
  },
  {
   "cell_type": "markdown",
   "metadata": {},
   "source": [
    "### Other recommended analysis"
   ]
  },
  {
   "cell_type": "code",
   "execution_count": 26,
   "metadata": {},
   "outputs": [],
   "source": [
    "# helper function to calculate daily precipitation\n",
    "def dailu_prcp(date):\n",
    "    pass\n",
    "\n",
    "# helper function to calculate daily normals\n",
    "def daily_normals(date):\n",
    "    \"\"\"Daily Normals.\n",
    "    Args:\n",
    "        date (str): A date string in the format '%m-%d'\n",
    "        \n",
    "    Returns:\n",
    "        A list of tuples containing the daily normals, tmin, tavg, and tmax\n",
    "    \n",
    "    \"\"\"\n",
    "    \n",
    "    sel = [label(\"mintobs\", func.min(Measurements.tobs)),\n",
    "           label(\"avgtobs\", func.avg(Measurements.tobs)),\n",
    "           label(\"maxtobs\", func.max(Measurements.tobs))]\n",
    "    query = session.query(*sel).filter(\n",
    "        func.strftime(\"%m-%d\", Measurements.date) == date)\n",
    "    return query.all()[0]\n",
    "    \n",
    "# helper function to create range of date within given range\n",
    "def date_range(start, end, step=1, format=None):\n",
    "    start = datetime.strptime(start_date, \"%Y-%m-%d\")\n",
    "    end = datetime.strptime(end_date, \"%Y-%m-%d\")\n",
    "    step = relativedelta(days=step)\n",
    "\n",
    "    range_date = []\n",
    "    while start <= end:\n",
    "        if format is not None:\n",
    "            range_date.append(start.strftime(format))\n",
    "        else:\n",
    "            range_date.append(start)\n",
    "        start += step\n",
    "    return range_date"
   ]
  },
  {
   "cell_type": "code",
   "execution_count": 27,
   "metadata": {},
   "outputs": [
    {
     "data": {
      "text/plain": [
       "[(62.0, 69.06, 77.0),\n",
       " (60.0, 69.40816326530613, 77.0),\n",
       " (62.0, 68.83333333333333, 77.0),\n",
       " (58.0, 69.83636363636364, 76.0),\n",
       " (56.0, 68.0, 76.0),\n",
       " (61.0, 68.88679245283019, 76.0),\n",
       " (57.0, 68.38181818181818, 76.0),\n",
       " (57.0, 67.2, 75.0),\n",
       " (58.0, 68.07272727272728, 78.0),\n",
       " (62.0, 69.81132075471699, 77.0),\n",
       " (57.0, 67.07843137254902, 78.0),\n",
       " (57.0, 67.12, 80.0),\n",
       " (57.0, 66.68085106382979, 77.0),\n",
       " (58.0, 69.42592592592592, 77.0),\n",
       " (56.0, 68.95833333333333, 76.0)]"
      ]
     },
     "execution_count": 27,
     "metadata": {},
     "output_type": "execute_result"
    }
   ],
   "source": [
    "# Set the start and end date of the trip\n",
    "start_date = '2017-01-01'\n",
    "end_date = '2017-01-15'\n",
    "\n",
    "# Use the start and end date to create a range of dates\n",
    "dates = date_range(start=start_date, end=end_date, step=1, format=\"%m-%d\")\n",
    "\n",
    "trip_daily_normals = []\n",
    "for date in dates:\n",
    "    trip_daily_normals.append(daily_normals(date=date))\n",
    "\n",
    "trip_daily_normals"
   ]
  },
  {
   "cell_type": "code",
   "execution_count": 28,
   "metadata": {},
   "outputs": [
    {
     "data": {
      "text/html": [
       "<div>\n",
       "<style scoped>\n",
       "    .dataframe tbody tr th:only-of-type {\n",
       "        vertical-align: middle;\n",
       "    }\n",
       "\n",
       "    .dataframe tbody tr th {\n",
       "        vertical-align: top;\n",
       "    }\n",
       "\n",
       "    .dataframe thead th {\n",
       "        text-align: right;\n",
       "    }\n",
       "</style>\n",
       "<table border=\"1\" class=\"dataframe\">\n",
       "  <thead>\n",
       "    <tr style=\"text-align: right;\">\n",
       "      <th></th>\n",
       "      <th>mintobs</th>\n",
       "      <th>avgtobs</th>\n",
       "      <th>maxtobs</th>\n",
       "    </tr>\n",
       "    <tr>\n",
       "      <th>date</th>\n",
       "      <th></th>\n",
       "      <th></th>\n",
       "      <th></th>\n",
       "    </tr>\n",
       "  </thead>\n",
       "  <tbody>\n",
       "    <tr>\n",
       "      <th>2017-01-01</th>\n",
       "      <td>62.0</td>\n",
       "      <td>69.060000</td>\n",
       "      <td>77.0</td>\n",
       "    </tr>\n",
       "    <tr>\n",
       "      <th>2017-01-02</th>\n",
       "      <td>60.0</td>\n",
       "      <td>69.408163</td>\n",
       "      <td>77.0</td>\n",
       "    </tr>\n",
       "    <tr>\n",
       "      <th>2017-01-03</th>\n",
       "      <td>62.0</td>\n",
       "      <td>68.833333</td>\n",
       "      <td>77.0</td>\n",
       "    </tr>\n",
       "    <tr>\n",
       "      <th>2017-01-04</th>\n",
       "      <td>58.0</td>\n",
       "      <td>69.836364</td>\n",
       "      <td>76.0</td>\n",
       "    </tr>\n",
       "    <tr>\n",
       "      <th>2017-01-05</th>\n",
       "      <td>56.0</td>\n",
       "      <td>68.000000</td>\n",
       "      <td>76.0</td>\n",
       "    </tr>\n",
       "    <tr>\n",
       "      <th>2017-01-06</th>\n",
       "      <td>61.0</td>\n",
       "      <td>68.886792</td>\n",
       "      <td>76.0</td>\n",
       "    </tr>\n",
       "    <tr>\n",
       "      <th>2017-01-07</th>\n",
       "      <td>57.0</td>\n",
       "      <td>68.381818</td>\n",
       "      <td>76.0</td>\n",
       "    </tr>\n",
       "    <tr>\n",
       "      <th>2017-01-08</th>\n",
       "      <td>57.0</td>\n",
       "      <td>67.200000</td>\n",
       "      <td>75.0</td>\n",
       "    </tr>\n",
       "    <tr>\n",
       "      <th>2017-01-09</th>\n",
       "      <td>58.0</td>\n",
       "      <td>68.072727</td>\n",
       "      <td>78.0</td>\n",
       "    </tr>\n",
       "    <tr>\n",
       "      <th>2017-01-10</th>\n",
       "      <td>62.0</td>\n",
       "      <td>69.811321</td>\n",
       "      <td>77.0</td>\n",
       "    </tr>\n",
       "    <tr>\n",
       "      <th>2017-01-11</th>\n",
       "      <td>57.0</td>\n",
       "      <td>67.078431</td>\n",
       "      <td>78.0</td>\n",
       "    </tr>\n",
       "    <tr>\n",
       "      <th>2017-01-12</th>\n",
       "      <td>57.0</td>\n",
       "      <td>67.120000</td>\n",
       "      <td>80.0</td>\n",
       "    </tr>\n",
       "    <tr>\n",
       "      <th>2017-01-13</th>\n",
       "      <td>57.0</td>\n",
       "      <td>66.680851</td>\n",
       "      <td>77.0</td>\n",
       "    </tr>\n",
       "    <tr>\n",
       "      <th>2017-01-14</th>\n",
       "      <td>58.0</td>\n",
       "      <td>69.425926</td>\n",
       "      <td>77.0</td>\n",
       "    </tr>\n",
       "    <tr>\n",
       "      <th>2017-01-15</th>\n",
       "      <td>56.0</td>\n",
       "      <td>68.958333</td>\n",
       "      <td>76.0</td>\n",
       "    </tr>\n",
       "  </tbody>\n",
       "</table>\n",
       "</div>"
      ],
      "text/plain": [
       "            mintobs    avgtobs  maxtobs\n",
       "date                                   \n",
       "2017-01-01     62.0  69.060000     77.0\n",
       "2017-01-02     60.0  69.408163     77.0\n",
       "2017-01-03     62.0  68.833333     77.0\n",
       "2017-01-04     58.0  69.836364     76.0\n",
       "2017-01-05     56.0  68.000000     76.0\n",
       "2017-01-06     61.0  68.886792     76.0\n",
       "2017-01-07     57.0  68.381818     76.0\n",
       "2017-01-08     57.0  67.200000     75.0\n",
       "2017-01-09     58.0  68.072727     78.0\n",
       "2017-01-10     62.0  69.811321     77.0\n",
       "2017-01-11     57.0  67.078431     78.0\n",
       "2017-01-12     57.0  67.120000     80.0\n",
       "2017-01-13     57.0  66.680851     77.0\n",
       "2017-01-14     58.0  69.425926     77.0\n",
       "2017-01-15     56.0  68.958333     76.0"
      ]
     },
     "execution_count": 28,
     "metadata": {},
     "output_type": "execute_result"
    }
   ],
   "source": [
    "# load daily normals into a Pandas DataFrame\n",
    "index = date_range(trip_start_date, trip_end_date)\n",
    "df_dailynormals = pd.DataFrame(index=index, data=trip_daily_normals)\n",
    "df_dailynormals.index.name = \"date\"\n",
    "df_dailynormals\n"
   ]
  },
  {
   "cell_type": "code",
   "execution_count": 29,
   "metadata": {},
   "outputs": [
    {
     "data": {
      "image/png": "[encoded data removed]",
      "text/plain": [
       "<Figure size 936x576 with 1 Axes>"
      ]
     },
     "metadata": {},
     "output_type": "display_data"
    }
   ],
   "source": [
    "# Plot the daily normals as an area plot with `stacked=False`\n",
    "ax = df_dailynormals.plot(\n",
    "    kind=\"area\",\n",
    "    stacked=False,\n",
    "    color=[\"blue\", \"red\", \"yellow\"],\n",
    "    lw=2,\n",
    "    alpha=0.1,\n",
    "    rot=0,\n",
    "    figsize=figsize)\n",
    "# ax.set_xticks(np.arange(0, len(df_dailynormals.index), 1))\n",
    "# ax.set_xticklabels(df_dailynormals.index.values)\n",
    "ax.set_xlabel(\"Date\", fontsize=label_fontsize)\n",
    "ax.set_ylabel(\"Temperature (F)\", fontsize=label_fontsize)\n",
    "_ = ax.set_title(f\"Daily Normals ({measurement_start_date}~{measurement_end_date})\",\n",
    "                 fontsize=title_fontsize)\n",
    "_ = ax.legend(labels=[\"Min Temperature\", \"Avg Temperature\", \"Max Temperature\"],\n",
    "              loc=\"lower right\",\n",
    "              fontsize=label_fontsize,\n",
    "              markerscale=2,\n",
    "              frameon=True,\n",
    "              framealpha=0.1,\n",
    "         )\n",
    "plt.tight_layout()"
   ]
  },
  {
   "cell_type": "code",
   "execution_count": 30,
   "metadata": {},
   "outputs": [
    {
     "data": {
      "text/plain": [
       "[('USC00519397', datetime.date(2010, 1, 1), 0.08),\n",
       " ('USC00519397', datetime.date(2011, 1, 1), 0.0),\n",
       " ('USC00519397', datetime.date(2012, 1, 1), 0.0),\n",
       " ('USC00519397', datetime.date(2013, 1, 1), 0.02),\n",
       " ('USC00519397', datetime.date(2014, 1, 1), 0.0),\n",
       " ('USC00519397', datetime.date(2015, 1, 1), 0.0),\n",
       " ('USC00519397', datetime.date(2016, 1, 1), 0.0),\n",
       " ('USC00519397', datetime.date(2017, 1, 1), 0.0),\n",
       " ('USC00513117', datetime.date(2010, 1, 1), 0.28),\n",
       " ('USC00513117', datetime.date(2011, 1, 1), 0.42),\n",
       " ('USC00513117', datetime.date(2012, 1, 1), 0.01),\n",
       " ('USC00513117', datetime.date(2013, 1, 1), 0.16),\n",
       " ('USC00513117', datetime.date(2014, 1, 1), 0.0),\n",
       " ('USC00513117', datetime.date(2015, 1, 1), 0.01),\n",
       " ('USC00513117', datetime.date(2016, 1, 1), 0.02),\n",
       " ('USC00513117', datetime.date(2017, 1, 1), 0.29),\n",
       " ('USC00514830', datetime.date(2011, 1, 1), 0.14),\n",
       " ('USC00514830', datetime.date(2012, 1, 1), 0.0),\n",
       " ('USC00514830', datetime.date(2015, 1, 1), 0.0),\n",
       " ('USC00514830', datetime.date(2016, 1, 1), 0.0),\n",
       " ('USC00514830', datetime.date(2017, 1, 1), 0.0),\n",
       " ('USC00518838', datetime.date(2010, 1, 1), 0.21),\n",
       " ('USC00519523', datetime.date(2010, 1, 1), 0.15),\n",
       " ('USC00519523', datetime.date(2011, 1, 1), 0.03),\n",
       " ('USC00519523', datetime.date(2012, 1, 1), 0.0),\n",
       " ('USC00519523', datetime.date(2013, 1, 1), 0.38),\n",
       " ('USC00519523', datetime.date(2014, 1, 1), 0.01),\n",
       " ('USC00519523', datetime.date(2015, 1, 1), 0.0),\n",
       " ('USC00519523', datetime.date(2016, 1, 1), 0.0),\n",
       " ('USC00519281', datetime.date(2010, 1, 1), 0.15),\n",
       " ('USC00519281', datetime.date(2011, 1, 1), 0.38),\n",
       " ('USC00519281', datetime.date(2012, 1, 1), 0.05),\n",
       " ('USC00519281', datetime.date(2013, 1, 1), 0.36),\n",
       " ('USC00519281', datetime.date(2014, 1, 1), 0.0),\n",
       " ('USC00519281', datetime.date(2015, 1, 1), 0.0),\n",
       " ('USC00519281', datetime.date(2016, 1, 1), 0.02),\n",
       " ('USC00519281', datetime.date(2017, 1, 1), 0.03),\n",
       " ('USC00511918', datetime.date(2010, 1, 1), 0.05),\n",
       " ('USC00511918', datetime.date(2011, 1, 1), 0.0),\n",
       " ('USC00511918', datetime.date(2012, 1, 1), 0.0),\n",
       " ('USC00511918', datetime.date(2013, 1, 1), 0.0),\n",
       " ('USC00511918', datetime.date(2014, 1, 1), 0.0),\n",
       " ('USC00511918', datetime.date(2015, 1, 1), 0.0),\n",
       " ('USC00516128', datetime.date(2010, 1, 1), 0.14),\n",
       " ('USC00516128', datetime.date(2011, 1, 1), 0.07),\n",
       " ('USC00516128', datetime.date(2012, 1, 1), 0.01),\n",
       " ('USC00516128', datetime.date(2013, 1, 1), 0.24),\n",
       " ('USC00516128', datetime.date(2014, 1, 1), 0.0),\n",
       " ('USC00516128', datetime.date(2016, 1, 1), 0.0),\n",
       " ('USC00516128', datetime.date(2017, 1, 1), 0.03)]"
      ]
     },
     "execution_count": 30,
     "metadata": {},
     "output_type": "execute_result"
    }
   ],
   "source": [
    "date = \"01-01\"\n",
    "query = session.query(Measurements.station, Measurements.date, Measurements.prcp).filter(\n",
    "    func.strftime(\"%m-%d\", Measurements.date) == date, Measurements.station == Stations.station)\n",
    "# query = query.group_by(Measurements.station)\n",
    "query.all()\n"
   ]
  },
  {
   "cell_type": "code",
   "execution_count": null,
   "metadata": {},
   "outputs": [],
   "source": []
  }
 ],
 "metadata": {
  "kernelspec": {
   "display_name": "Python [conda env:surfpy]",
   "language": "python",
   "name": "conda-env-surfpy-py"
  },
  "language_info": {
   "codemirror_mode": {
    "name": "ipython",
    "version": 3
   },
   "file_extension": ".py",
   "mimetype": "text/x-python",
   "name": "python",
   "nbconvert_exporter": "python",
   "pygments_lexer": "ipython3",
   "version": "3.6.6"
  }
 },
 "nbformat": 4,
 "nbformat_minor": 2
}
